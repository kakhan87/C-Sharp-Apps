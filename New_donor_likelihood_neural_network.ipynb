{
  "nbformat": 4,
  "nbformat_minor": 0,
  "metadata": {
    "colab": {
      "name": "New_donor_likelihood_neural_network.ipynb",
      "provenance": [],
      "toc_visible": true,
      "authorship_tag": "ABX9TyPeXk/fePeYv4X+PqlQ1y0v",
      "include_colab_link": true
    },
    "kernelspec": {
      "name": "python3",
      "display_name": "Python 3"
    }
  },
  "cells": [
    {
      "cell_type": "markdown",
      "metadata": {
        "id": "view-in-github",
        "colab_type": "text"
      },
      "source": [
        "<a href=\"https://colab.research.google.com/github/kakhan87/C-Sharp-Apps/blob/master/New_donor_likelihood_neural_network.ipynb\" target=\"_parent\"><img src=\"https://colab.research.google.com/assets/colab-badge.svg\" alt=\"Open In Colab\"/></a>"
      ]
    },
    {
      "cell_type": "code",
      "metadata": {
        "id": "hyDr3umXX0_L",
        "colab_type": "code",
        "colab": {
          "base_uri": "https://localhost:8080/",
          "height": 33
        },
        "outputId": "0e32d91e-e965-4474-f0da-873c31df941e"
      },
      "source": [
        "from google.colab import drive\n",
        "drive.mount('/content/drive')"
      ],
      "execution_count": 217,
      "outputs": [
        {
          "output_type": "stream",
          "text": [
            "Drive already mounted at /content/drive; to attempt to forcibly remount, call drive.mount(\"/content/drive\", force_remount=True).\n"
          ],
          "name": "stdout"
        }
      ]
    },
    {
      "cell_type": "code",
      "metadata": {
        "id": "6y6Y6uj1YJUX",
        "colab_type": "code",
        "colab": {
          "base_uri": "https://localhost:8080/",
          "height": 33
        },
        "outputId": "2a4e7fde-6539-45c5-e550-1e8a92a74efc"
      },
      "source": [
        "import pandas as pd\n",
        "import matplotlib.pyplot as plt\n",
        "print(\"Libraries imported successfully!\")"
      ],
      "execution_count": 218,
      "outputs": [
        {
          "output_type": "stream",
          "text": [
            "Libraries imported successfully!\n"
          ],
          "name": "stdout"
        }
      ]
    },
    {
      "cell_type": "code",
      "metadata": {
        "id": "6BPmEbjNX1zl",
        "colab_type": "code",
        "colab": {
          "base_uri": "https://localhost:8080/",
          "height": 321
        },
        "outputId": "8d5b4e36-9d0c-4aa1-969d-ce49a40ea70a"
      },
      "source": [
        "emails_df = pd.read_csv('/content/drive/Shared drives/RA2 TechCareers Model Data/emails.csv')\n",
        "emails_df.head()"
      ],
      "execution_count": 219,
      "outputs": [
        {
          "output_type": "execute_result",
          "data": {
            "text/html": [
              "<div>\n",
              "<style scoped>\n",
              "    .dataframe tbody tr th:only-of-type {\n",
              "        vertical-align: middle;\n",
              "    }\n",
              "\n",
              "    .dataframe tbody tr th {\n",
              "        vertical-align: top;\n",
              "    }\n",
              "\n",
              "    .dataframe thead th {\n",
              "        text-align: right;\n",
              "    }\n",
              "</style>\n",
              "<table border=\"1\" class=\"dataframe\">\n",
              "  <thead>\n",
              "    <tr style=\"text-align: right;\">\n",
              "      <th></th>\n",
              "      <th>email_id</th>\n",
              "      <th>broadcaster_id</th>\n",
              "      <th>subject_line</th>\n",
              "      <th>content</th>\n",
              "      <th>sent_time</th>\n",
              "      <th>recipients</th>\n",
              "      <th>opened</th>\n",
              "      <th>clicked</th>\n",
              "      <th>bad</th>\n",
              "      <th>bounced</th>\n",
              "      <th>spam</th>\n",
              "    </tr>\n",
              "  </thead>\n",
              "  <tbody>\n",
              "    <tr>\n",
              "      <th>0</th>\n",
              "      <td>1</td>\n",
              "      <td>1</td>\n",
              "      <td>NATIONBUILDER EMAILS!</td>\n",
              "      <td>&lt;P&gt;{{ RECIPIENT.FIRST_NAME_OR_FRIEND }},&lt;/P&gt;\\n...</td>\n",
              "      <td>2018-07-05 21:11:40.536202</td>\n",
              "      <td>2</td>\n",
              "      <td>2</td>\n",
              "      <td>2.0</td>\n",
              "      <td>NaN</td>\n",
              "      <td>NaN</td>\n",
              "      <td>NaN</td>\n",
              "    </tr>\n",
              "    <tr>\n",
              "      <th>1</th>\n",
              "      <td>10</td>\n",
              "      <td>7</td>\n",
              "      <td>VOTE DAY!</td>\n",
              "      <td>&lt;P&gt;DEAR {{ RECIPIENT.FIRST_NAME_OR_FRIEND }},&lt;...</td>\n",
              "      <td>2018-07-11 22:55:34.897952</td>\n",
              "      <td>3</td>\n",
              "      <td>3</td>\n",
              "      <td>NaN</td>\n",
              "      <td>NaN</td>\n",
              "      <td>NaN</td>\n",
              "      <td>NaN</td>\n",
              "    </tr>\n",
              "    <tr>\n",
              "      <th>2</th>\n",
              "      <td>100</td>\n",
              "      <td>5</td>\n",
              "      <td>WEEK IN REVIEW</td>\n",
              "      <td>&lt;P&gt;&lt;IMG STYLE=\"MARGIN-RIGHT: AUTO; MARGIN-LEFT...</td>\n",
              "      <td>2018-09-16 01:18:10.899794</td>\n",
              "      <td>5592</td>\n",
              "      <td>1856</td>\n",
              "      <td>119.0</td>\n",
              "      <td>1.0</td>\n",
              "      <td>37.0</td>\n",
              "      <td>1.0</td>\n",
              "    </tr>\n",
              "    <tr>\n",
              "      <th>3</th>\n",
              "      <td>101</td>\n",
              "      <td>12</td>\n",
              "      <td>ALBERTA PARTY CALGARY NORTH EAST BOARD MEETING...</td>\n",
              "      <td>&lt;P&gt;DEAR {{ RECIPIENT.FIRST_NAME_OR_FRIEND }} -...</td>\n",
              "      <td>2018-09-17 06:02:32.529319</td>\n",
              "      <td>58</td>\n",
              "      <td>31</td>\n",
              "      <td>4.0</td>\n",
              "      <td>NaN</td>\n",
              "      <td>NaN</td>\n",
              "      <td>NaN</td>\n",
              "    </tr>\n",
              "    <tr>\n",
              "      <th>4</th>\n",
              "      <td>102</td>\n",
              "      <td>17</td>\n",
              "      <td>MEET THE NOMINEES AND VOTING DAY ANNOUNCEMENT...</td>\n",
              "      <td>&lt;P&gt;HELLO ALBERTA PARTY CONSTITUENTS OF EDMONTO...</td>\n",
              "      <td>2018-09-20 03:25:47.043647</td>\n",
              "      <td>94</td>\n",
              "      <td>42</td>\n",
              "      <td>7.0</td>\n",
              "      <td>NaN</td>\n",
              "      <td>3.0</td>\n",
              "      <td>NaN</td>\n",
              "    </tr>\n",
              "  </tbody>\n",
              "</table>\n",
              "</div>"
            ],
            "text/plain": [
              "   email_id  broadcaster_id  ... bounced spam\n",
              "0         1               1  ...     NaN  NaN\n",
              "1        10               7  ...     NaN  NaN\n",
              "2       100               5  ...    37.0  1.0\n",
              "3       101              12  ...     NaN  NaN\n",
              "4       102              17  ...     3.0  NaN\n",
              "\n",
              "[5 rows x 11 columns]"
            ]
          },
          "metadata": {
            "tags": []
          },
          "execution_count": 219
        }
      ]
    },
    {
      "cell_type": "markdown",
      "metadata": {
        "id": "kgtoISZU4AW7",
        "colab_type": "text"
      },
      "source": [
        ""
      ]
    },
    {
      "cell_type": "markdown",
      "metadata": {
        "id": "tkBtEcyU4Bsf",
        "colab_type": "text"
      },
      "source": [
        "## Count Number of NaN Values in Emails Dataframe"
      ]
    },
    {
      "cell_type": "code",
      "metadata": {
        "id": "GczEyb2u38V1",
        "colab_type": "code",
        "colab": {
          "base_uri": "https://localhost:8080/",
          "height": 212
        },
        "outputId": "26b01b8d-07e9-46e0-bab7-63045b407e76"
      },
      "source": [
        "emails_df.isna().sum()"
      ],
      "execution_count": 220,
      "outputs": [
        {
          "output_type": "execute_result",
          "data": {
            "text/plain": [
              "email_id            0\n",
              "broadcaster_id      0\n",
              "subject_line        0\n",
              "content             0\n",
              "sent_time           0\n",
              "recipients          0\n",
              "opened              0\n",
              "clicked           138\n",
              "bad               428\n",
              "bounced           227\n",
              "spam              542\n",
              "dtype: int64"
            ]
          },
          "metadata": {
            "tags": []
          },
          "execution_count": 220
        }
      ]
    },
    {
      "cell_type": "markdown",
      "metadata": {
        "id": "CUExw5tY3Pmz",
        "colab_type": "text"
      },
      "source": [
        "## Replace NaN Values with 0 in columns showing NaN"
      ]
    },
    {
      "cell_type": "code",
      "metadata": {
        "id": "9mkFyRMc23hW",
        "colab_type": "code",
        "colab": {
          "base_uri": "https://localhost:8080/",
          "height": 321
        },
        "outputId": "a212d402-ebf1-4e26-bb85-c05ecf1a9f26"
      },
      "source": [
        "cols = ['clicked','bad','bounced','spam']\n",
        "emails_df[cols] = emails_df[cols].fillna(0)\n",
        "emails_df.head()"
      ],
      "execution_count": 221,
      "outputs": [
        {
          "output_type": "execute_result",
          "data": {
            "text/html": [
              "<div>\n",
              "<style scoped>\n",
              "    .dataframe tbody tr th:only-of-type {\n",
              "        vertical-align: middle;\n",
              "    }\n",
              "\n",
              "    .dataframe tbody tr th {\n",
              "        vertical-align: top;\n",
              "    }\n",
              "\n",
              "    .dataframe thead th {\n",
              "        text-align: right;\n",
              "    }\n",
              "</style>\n",
              "<table border=\"1\" class=\"dataframe\">\n",
              "  <thead>\n",
              "    <tr style=\"text-align: right;\">\n",
              "      <th></th>\n",
              "      <th>email_id</th>\n",
              "      <th>broadcaster_id</th>\n",
              "      <th>subject_line</th>\n",
              "      <th>content</th>\n",
              "      <th>sent_time</th>\n",
              "      <th>recipients</th>\n",
              "      <th>opened</th>\n",
              "      <th>clicked</th>\n",
              "      <th>bad</th>\n",
              "      <th>bounced</th>\n",
              "      <th>spam</th>\n",
              "    </tr>\n",
              "  </thead>\n",
              "  <tbody>\n",
              "    <tr>\n",
              "      <th>0</th>\n",
              "      <td>1</td>\n",
              "      <td>1</td>\n",
              "      <td>NATIONBUILDER EMAILS!</td>\n",
              "      <td>&lt;P&gt;{{ RECIPIENT.FIRST_NAME_OR_FRIEND }},&lt;/P&gt;\\n...</td>\n",
              "      <td>2018-07-05 21:11:40.536202</td>\n",
              "      <td>2</td>\n",
              "      <td>2</td>\n",
              "      <td>2.0</td>\n",
              "      <td>0.0</td>\n",
              "      <td>0.0</td>\n",
              "      <td>0.0</td>\n",
              "    </tr>\n",
              "    <tr>\n",
              "      <th>1</th>\n",
              "      <td>10</td>\n",
              "      <td>7</td>\n",
              "      <td>VOTE DAY!</td>\n",
              "      <td>&lt;P&gt;DEAR {{ RECIPIENT.FIRST_NAME_OR_FRIEND }},&lt;...</td>\n",
              "      <td>2018-07-11 22:55:34.897952</td>\n",
              "      <td>3</td>\n",
              "      <td>3</td>\n",
              "      <td>0.0</td>\n",
              "      <td>0.0</td>\n",
              "      <td>0.0</td>\n",
              "      <td>0.0</td>\n",
              "    </tr>\n",
              "    <tr>\n",
              "      <th>2</th>\n",
              "      <td>100</td>\n",
              "      <td>5</td>\n",
              "      <td>WEEK IN REVIEW</td>\n",
              "      <td>&lt;P&gt;&lt;IMG STYLE=\"MARGIN-RIGHT: AUTO; MARGIN-LEFT...</td>\n",
              "      <td>2018-09-16 01:18:10.899794</td>\n",
              "      <td>5592</td>\n",
              "      <td>1856</td>\n",
              "      <td>119.0</td>\n",
              "      <td>1.0</td>\n",
              "      <td>37.0</td>\n",
              "      <td>1.0</td>\n",
              "    </tr>\n",
              "    <tr>\n",
              "      <th>3</th>\n",
              "      <td>101</td>\n",
              "      <td>12</td>\n",
              "      <td>ALBERTA PARTY CALGARY NORTH EAST BOARD MEETING...</td>\n",
              "      <td>&lt;P&gt;DEAR {{ RECIPIENT.FIRST_NAME_OR_FRIEND }} -...</td>\n",
              "      <td>2018-09-17 06:02:32.529319</td>\n",
              "      <td>58</td>\n",
              "      <td>31</td>\n",
              "      <td>4.0</td>\n",
              "      <td>0.0</td>\n",
              "      <td>0.0</td>\n",
              "      <td>0.0</td>\n",
              "    </tr>\n",
              "    <tr>\n",
              "      <th>4</th>\n",
              "      <td>102</td>\n",
              "      <td>17</td>\n",
              "      <td>MEET THE NOMINEES AND VOTING DAY ANNOUNCEMENT...</td>\n",
              "      <td>&lt;P&gt;HELLO ALBERTA PARTY CONSTITUENTS OF EDMONTO...</td>\n",
              "      <td>2018-09-20 03:25:47.043647</td>\n",
              "      <td>94</td>\n",
              "      <td>42</td>\n",
              "      <td>7.0</td>\n",
              "      <td>0.0</td>\n",
              "      <td>3.0</td>\n",
              "      <td>0.0</td>\n",
              "    </tr>\n",
              "  </tbody>\n",
              "</table>\n",
              "</div>"
            ],
            "text/plain": [
              "   email_id  broadcaster_id  ... bounced spam\n",
              "0         1               1  ...     0.0  0.0\n",
              "1        10               7  ...     0.0  0.0\n",
              "2       100               5  ...    37.0  1.0\n",
              "3       101              12  ...     0.0  0.0\n",
              "4       102              17  ...     3.0  0.0\n",
              "\n",
              "[5 rows x 11 columns]"
            ]
          },
          "metadata": {
            "tags": []
          },
          "execution_count": 221
        }
      ]
    },
    {
      "cell_type": "markdown",
      "metadata": {
        "id": "XGsOJSWX4Ss2",
        "colab_type": "text"
      },
      "source": [
        "## Confirm all NaN values were replaced"
      ]
    },
    {
      "cell_type": "code",
      "metadata": {
        "id": "q34Cixn804dE",
        "colab_type": "code",
        "colab": {
          "base_uri": "https://localhost:8080/",
          "height": 212
        },
        "outputId": "68ba236c-d845-443c-dfc9-a391f6d991bf"
      },
      "source": [
        "emails_df.isna().sum()"
      ],
      "execution_count": 222,
      "outputs": [
        {
          "output_type": "execute_result",
          "data": {
            "text/plain": [
              "email_id          0\n",
              "broadcaster_id    0\n",
              "subject_line      0\n",
              "content           0\n",
              "sent_time         0\n",
              "recipients        0\n",
              "opened            0\n",
              "clicked           0\n",
              "bad               0\n",
              "bounced           0\n",
              "spam              0\n",
              "dtype: int64"
            ]
          },
          "metadata": {
            "tags": []
          },
          "execution_count": 222
        }
      ]
    },
    {
      "cell_type": "markdown",
      "metadata": {
        "id": "C942FLXP52z5",
        "colab_type": "text"
      },
      "source": [
        "## Create new dataframe with most important features from emails dataframe\n",
        "### Sort by descending order of opened emails"
      ]
    },
    {
      "cell_type": "code",
      "metadata": {
        "id": "BxOnJg5b4KUd",
        "colab_type": "code",
        "colab": {
          "base_uri": "https://localhost:8080/",
          "height": 586
        },
        "outputId": "fc176c7c-187f-476d-f477-2564461237a7"
      },
      "source": [
        "emails_df['subject_line_length'] = emails_df['subject_line'].str.len()\n",
        "emails_processed_df = emails_df[['email_id', 'subject_line', 'subject_line_length', \n",
        "                                 'content', 'sent_time', 'recipients', 'opened', \n",
        "                                 'clicked']].sort_values(by='opened', ascending=False)\n",
        "emails_processed_df=emails_processed_df.reset_index(drop=True)\n",
        "emails_processed_df"
      ],
      "execution_count": 223,
      "outputs": [
        {
          "output_type": "execute_result",
          "data": {
            "text/html": [
              "<div>\n",
              "<style scoped>\n",
              "    .dataframe tbody tr th:only-of-type {\n",
              "        vertical-align: middle;\n",
              "    }\n",
              "\n",
              "    .dataframe tbody tr th {\n",
              "        vertical-align: top;\n",
              "    }\n",
              "\n",
              "    .dataframe thead th {\n",
              "        text-align: right;\n",
              "    }\n",
              "</style>\n",
              "<table border=\"1\" class=\"dataframe\">\n",
              "  <thead>\n",
              "    <tr style=\"text-align: right;\">\n",
              "      <th></th>\n",
              "      <th>email_id</th>\n",
              "      <th>subject_line</th>\n",
              "      <th>subject_line_length</th>\n",
              "      <th>content</th>\n",
              "      <th>sent_time</th>\n",
              "      <th>recipients</th>\n",
              "      <th>opened</th>\n",
              "      <th>clicked</th>\n",
              "    </tr>\n",
              "  </thead>\n",
              "  <tbody>\n",
              "    <tr>\n",
              "      <th>0</th>\n",
              "      <td>63</td>\n",
              "      <td>POLICY CONFERENCE &amp; AGM</td>\n",
              "      <td>23</td>\n",
              "      <td>&lt;P&gt;HELLO {{ RECIPIENT.FIRST_NAME_OR_FRIEND }},...</td>\n",
              "      <td>2018-08-21 04:58:13.129920</td>\n",
              "      <td>13495</td>\n",
              "      <td>7086</td>\n",
              "      <td>154.0</td>\n",
              "    </tr>\n",
              "    <tr>\n",
              "      <th>1</th>\n",
              "      <td>599</td>\n",
              "      <td>LEADER RESIGNATION - ALBERTA PARTY</td>\n",
              "      <td>34</td>\n",
              "      <td>&lt;P&gt;DEAR {{RECIPIENT.FIRST_NAME_OR_FRIEND}} --&lt;...</td>\n",
              "      <td>2019-06-28 16:35:09.200369</td>\n",
              "      <td>12661</td>\n",
              "      <td>6226</td>\n",
              "      <td>185.0</td>\n",
              "    </tr>\n",
              "    <tr>\n",
              "      <th>2</th>\n",
              "      <td>542</td>\n",
              "      <td>DID YOU SEE TODAY'S NUMBERS? 😍</td>\n",
              "      <td>30</td>\n",
              "      <td>&lt;P&gt;{{RECIPIENT.FIRST_NAME_OR_FRIEND}},&lt;/P&gt;\\n&lt;P...</td>\n",
              "      <td>2019-04-10 02:18:17.567185</td>\n",
              "      <td>12976</td>\n",
              "      <td>5933</td>\n",
              "      <td>817.0</td>\n",
              "    </tr>\n",
              "    <tr>\n",
              "      <th>3</th>\n",
              "      <td>389</td>\n",
              "      <td>RE ELECTIONS ALBERTA</td>\n",
              "      <td>20</td>\n",
              "      <td>&lt;P&gt;GOOD EVENING,&lt;/P&gt;\\n&lt;DIV&gt;I WANTED TO INFORM ...</td>\n",
              "      <td>2019-02-09 04:19:21.858935</td>\n",
              "      <td>11981</td>\n",
              "      <td>5924</td>\n",
              "      <td>369.0</td>\n",
              "    </tr>\n",
              "    <tr>\n",
              "      <th>4</th>\n",
              "      <td>503</td>\n",
              "      <td>WE DID IT!</td>\n",
              "      <td>10</td>\n",
              "      <td>&lt;P&gt;HI {{RECIPIENT.FIRST_NAME_OR_FRIEND}},&lt;/P&gt;\\...</td>\n",
              "      <td>2019-03-26 22:16:22.395828</td>\n",
              "      <td>12360</td>\n",
              "      <td>5691</td>\n",
              "      <td>233.0</td>\n",
              "    </tr>\n",
              "    <tr>\n",
              "      <th>...</th>\n",
              "      <td>...</td>\n",
              "      <td>...</td>\n",
              "      <td>...</td>\n",
              "      <td>...</td>\n",
              "      <td>...</td>\n",
              "      <td>...</td>\n",
              "      <td>...</td>\n",
              "      <td>...</td>\n",
              "    </tr>\n",
              "    <tr>\n",
              "      <th>604</th>\n",
              "      <td>668</td>\n",
              "      <td>SAVE THE DATE FOR THE ALBERTA PARTY AGM - 2020</td>\n",
              "      <td>46</td>\n",
              "      <td>&lt;P&gt;{{RECIPIENT.FIRST_NAME_OR_FRIEND}} -- &lt;BR&gt;&lt;...</td>\n",
              "      <td>2019-12-04 00:03:10.167897</td>\n",
              "      <td>1</td>\n",
              "      <td>1</td>\n",
              "      <td>0.0</td>\n",
              "    </tr>\n",
              "    <tr>\n",
              "      <th>605</th>\n",
              "      <td>452</td>\n",
              "      <td>BA BA BLAA</td>\n",
              "      <td>10</td>\n",
              "      <td>&lt;P&gt;{{RECIPIENT.FIRST_NAME_OR_FRIEND}} -- &lt;BR&gt;Y...</td>\n",
              "      <td>2019-03-10 04:34:06.308052</td>\n",
              "      <td>1</td>\n",
              "      <td>1</td>\n",
              "      <td>1.0</td>\n",
              "    </tr>\n",
              "    <tr>\n",
              "      <th>606</th>\n",
              "      <td>283</td>\n",
              "      <td>[ALBERTA PARTY] MORE INFORMATION ABOUT DONATING</td>\n",
              "      <td>47</td>\n",
              "      <td>&lt;P&gt;{{RECIPIENT.FIRST_NAME_OR_FRIEND}} -- &lt;BR&gt;&lt;...</td>\n",
              "      <td>2018-12-15 19:25:13.876699</td>\n",
              "      <td>3</td>\n",
              "      <td>1</td>\n",
              "      <td>1.0</td>\n",
              "    </tr>\n",
              "    <tr>\n",
              "      <th>607</th>\n",
              "      <td>382</td>\n",
              "      <td>FRANK PENKALA, INTRODUCTION</td>\n",
              "      <td>27</td>\n",
              "      <td>&lt;P&gt;DEAR {{RECIPIENT.FIRST_NAME_OR_FRIEND}},&lt;BR...</td>\n",
              "      <td>2019-02-05 00:37:44.195829</td>\n",
              "      <td>1</td>\n",
              "      <td>1</td>\n",
              "      <td>1.0</td>\n",
              "    </tr>\n",
              "    <tr>\n",
              "      <th>608</th>\n",
              "      <td>672</td>\n",
              "      <td>2019 CA ANNUAL MEETING REMINDER</td>\n",
              "      <td>31</td>\n",
              "      <td>&lt;P&gt;HELLO {{RECIPIENT.FIRST_NAME_OR_FRIEND}} --...</td>\n",
              "      <td>2019-12-03 05:28:28.087570</td>\n",
              "      <td>9</td>\n",
              "      <td>1</td>\n",
              "      <td>0.0</td>\n",
              "    </tr>\n",
              "  </tbody>\n",
              "</table>\n",
              "<p>609 rows × 8 columns</p>\n",
              "</div>"
            ],
            "text/plain": [
              "     email_id                                     subject_line  ...  opened clicked\n",
              "0          63                          POLICY CONFERENCE & AGM  ...    7086   154.0\n",
              "1         599               LEADER RESIGNATION - ALBERTA PARTY  ...    6226   185.0\n",
              "2         542                   DID YOU SEE TODAY'S NUMBERS? 😍  ...    5933   817.0\n",
              "3         389                             RE ELECTIONS ALBERTA  ...    5924   369.0\n",
              "4         503                                       WE DID IT!  ...    5691   233.0\n",
              "..        ...                                              ...  ...     ...     ...\n",
              "604       668   SAVE THE DATE FOR THE ALBERTA PARTY AGM - 2020  ...       1     0.0\n",
              "605       452                                       BA BA BLAA  ...       1     1.0\n",
              "606       283  [ALBERTA PARTY] MORE INFORMATION ABOUT DONATING  ...       1     1.0\n",
              "607       382                      FRANK PENKALA, INTRODUCTION  ...       1     1.0\n",
              "608       672                  2019 CA ANNUAL MEETING REMINDER  ...       1     0.0\n",
              "\n",
              "[609 rows x 8 columns]"
            ]
          },
          "metadata": {
            "tags": []
          },
          "execution_count": 223
        }
      ]
    },
    {
      "cell_type": "markdown",
      "metadata": {
        "id": "bCaLNCKA8tvl",
        "colab_type": "text"
      },
      "source": [
        "## Plot Number of E-mails Opened Vs. Length of Subject line to check for any correlations"
      ]
    },
    {
      "cell_type": "code",
      "metadata": {
        "id": "FCzIqrcD8NkB",
        "colab_type": "code",
        "colab": {
          "base_uri": "https://localhost:8080/",
          "height": 280
        },
        "outputId": "6ac756bc-80ed-4d02-a4dc-1d42b86168c5"
      },
      "source": [
        "emails_processed_df.plot(x='subject_line_length', y='opened', style='o')\n",
        "plt.ylabel('Opened')\n",
        "plt.show()"
      ],
      "execution_count": 224,
      "outputs": [
        {
          "output_type": "display_data",
          "data": {
            "image/png": "[encoded data removed]",
            "text/plain": [
              "<Figure size 432x288 with 1 Axes>"
            ]
          },
          "metadata": {
            "tags": [],
            "needs_background": "light"
          }
        }
      ]
    },
    {
      "cell_type": "markdown",
      "metadata": {
        "id": "IiLrtOGZOAcm",
        "colab_type": "text"
      },
      "source": [
        "## Find the features that are most correlated with opening the e-mail"
      ]
    },
    {
      "cell_type": "code",
      "metadata": {
        "id": "14iE9N6QM4Um",
        "colab_type": "code",
        "colab": {
          "base_uri": "https://localhost:8080/",
          "height": 115
        },
        "outputId": "95a395dc-ae81-4d1d-b9bd-2d6b0a8f8109"
      },
      "source": [
        "emails_processed_df.corr()['opened'].sort_values()"
      ],
      "execution_count": 225,
      "outputs": [
        {
          "output_type": "execute_result",
          "data": {
            "text/plain": [
              "subject_line_length   -0.164656\n",
              "email_id               0.088976\n",
              "clicked                0.660097\n",
              "recipients             0.965159\n",
              "opened                 1.000000\n",
              "Name: opened, dtype: float64"
            ]
          },
          "metadata": {
            "tags": []
          },
          "execution_count": 225
        }
      ]
    },
    {
      "cell_type": "markdown",
      "metadata": {
        "id": "ALyMiQf_Ohfd",
        "colab_type": "text"
      },
      "source": [
        "The number of recipients and number of clicks on content inside opened e-mails seem to be the most correlated with number of opened e-mails."
      ]
    },
    {
      "cell_type": "code",
      "metadata": {
        "id": "GWWXL_XhYcsO",
        "colab_type": "code",
        "colab": {
          "base_uri": "https://localhost:8080/",
          "height": 573
        },
        "outputId": "da11a88d-047d-4cac-93df-fc1106ba7524"
      },
      "source": [
        "persons_df = pd.read_csv('/content/drive/Shared drives/RA2 TechCareers Model Data/persons.csv')\n",
        "persons_df"
      ],
      "execution_count": 273,
      "outputs": [
        {
          "output_type": "execute_result",
          "data": {
            "text/html": [
              "<div>\n",
              "<style scoped>\n",
              "    .dataframe tbody tr th:only-of-type {\n",
              "        vertical-align: middle;\n",
              "    }\n",
              "\n",
              "    .dataframe tbody tr th {\n",
              "        vertical-align: top;\n",
              "    }\n",
              "\n",
              "    .dataframe thead th {\n",
              "        text-align: right;\n",
              "    }\n",
              "</style>\n",
              "<table border=\"1\" class=\"dataframe\">\n",
              "  <thead>\n",
              "    <tr style=\"text-align: right;\">\n",
              "      <th></th>\n",
              "      <th>user_id</th>\n",
              "      <th>do_not_call</th>\n",
              "      <th>do_not_contact</th>\n",
              "      <th>mobile_opt_in</th>\n",
              "      <th>email_opt_in</th>\n",
              "      <th>created_at</th>\n",
              "      <th>amount_donated_in_cent</th>\n",
              "      <th>gender</th>\n",
              "      <th>genderscale</th>\n",
              "      <th>is_member</th>\n",
              "      <th>is_volunteer</th>\n",
              "      <th>city</th>\n",
              "      <th>lat</th>\n",
              "      <th>lng</th>\n",
              "    </tr>\n",
              "  </thead>\n",
              "  <tbody>\n",
              "    <tr>\n",
              "      <th>0</th>\n",
              "      <td>10</td>\n",
              "      <td>False</td>\n",
              "      <td>False</td>\n",
              "      <td>True</td>\n",
              "      <td>True</td>\n",
              "      <td>2018-06-18 03:33:36.877235</td>\n",
              "      <td>50000</td>\n",
              "      <td>MALE</td>\n",
              "      <td>-0.903628</td>\n",
              "      <td>True</td>\n",
              "      <td>True</td>\n",
              "      <td>EDMONTON</td>\n",
              "      <td>53.534261</td>\n",
              "      <td>-113.561948</td>\n",
              "    </tr>\n",
              "    <tr>\n",
              "      <th>1</th>\n",
              "      <td>100</td>\n",
              "      <td>False</td>\n",
              "      <td>False</td>\n",
              "      <td>True</td>\n",
              "      <td>True</td>\n",
              "      <td>2018-06-22 04:59:11.094703</td>\n",
              "      <td>0</td>\n",
              "      <td>MALE</td>\n",
              "      <td>-0.993248</td>\n",
              "      <td>True</td>\n",
              "      <td>False</td>\n",
              "      <td>SHERWOODPARK</td>\n",
              "      <td>53.510890</td>\n",
              "      <td>-113.325069</td>\n",
              "    </tr>\n",
              "    <tr>\n",
              "      <th>2</th>\n",
              "      <td>1000</td>\n",
              "      <td>False</td>\n",
              "      <td>False</td>\n",
              "      <td>True</td>\n",
              "      <td>False</td>\n",
              "      <td>2018-06-22 04:59:32.324681</td>\n",
              "      <td>0</td>\n",
              "      <td>MALE</td>\n",
              "      <td>-0.508882</td>\n",
              "      <td>True</td>\n",
              "      <td>False</td>\n",
              "      <td>MORINVILLE</td>\n",
              "      <td>53.801988</td>\n",
              "      <td>-113.650435</td>\n",
              "    </tr>\n",
              "    <tr>\n",
              "      <th>3</th>\n",
              "      <td>10000</td>\n",
              "      <td>False</td>\n",
              "      <td>False</td>\n",
              "      <td>True</td>\n",
              "      <td>True</td>\n",
              "      <td>2018-06-22 05:04:12.560932</td>\n",
              "      <td>2500</td>\n",
              "      <td>FEMALE</td>\n",
              "      <td>0.497144</td>\n",
              "      <td>True</td>\n",
              "      <td>False</td>\n",
              "      <td>COUNTYOFGRANDEPRAIRIENO</td>\n",
              "      <td>55.140667</td>\n",
              "      <td>-118.763608</td>\n",
              "    </tr>\n",
              "    <tr>\n",
              "      <th>4</th>\n",
              "      <td>10001</td>\n",
              "      <td>False</td>\n",
              "      <td>False</td>\n",
              "      <td>True</td>\n",
              "      <td>False</td>\n",
              "      <td>2018-06-22 05:04:12.566468</td>\n",
              "      <td>1000</td>\n",
              "      <td>MALE</td>\n",
              "      <td>NaN</td>\n",
              "      <td>True</td>\n",
              "      <td>False</td>\n",
              "      <td>EDMONTON</td>\n",
              "      <td>53.542243</td>\n",
              "      <td>-113.530470</td>\n",
              "    </tr>\n",
              "    <tr>\n",
              "      <th>...</th>\n",
              "      <td>...</td>\n",
              "      <td>...</td>\n",
              "      <td>...</td>\n",
              "      <td>...</td>\n",
              "      <td>...</td>\n",
              "      <td>...</td>\n",
              "      <td>...</td>\n",
              "      <td>...</td>\n",
              "      <td>...</td>\n",
              "      <td>...</td>\n",
              "      <td>...</td>\n",
              "      <td>...</td>\n",
              "      <td>...</td>\n",
              "      <td>...</td>\n",
              "    </tr>\n",
              "    <tr>\n",
              "      <th>21061</th>\n",
              "      <td>9993</td>\n",
              "      <td>False</td>\n",
              "      <td>False</td>\n",
              "      <td>True</td>\n",
              "      <td>True</td>\n",
              "      <td>2018-06-22 05:04:12.499741</td>\n",
              "      <td>1000</td>\n",
              "      <td>MALE</td>\n",
              "      <td>-1.000000</td>\n",
              "      <td>True</td>\n",
              "      <td>False</td>\n",
              "      <td>CHESTERMERE</td>\n",
              "      <td>51.008772</td>\n",
              "      <td>-113.795686</td>\n",
              "    </tr>\n",
              "    <tr>\n",
              "      <th>21062</th>\n",
              "      <td>9996</td>\n",
              "      <td>False</td>\n",
              "      <td>False</td>\n",
              "      <td>True</td>\n",
              "      <td>True</td>\n",
              "      <td>2018-06-22 05:04:12.518356</td>\n",
              "      <td>1000</td>\n",
              "      <td>FEMALE</td>\n",
              "      <td>0.994761</td>\n",
              "      <td>True</td>\n",
              "      <td>False</td>\n",
              "      <td>SHERWOODPARK</td>\n",
              "      <td>53.503822</td>\n",
              "      <td>-113.320358</td>\n",
              "    </tr>\n",
              "    <tr>\n",
              "      <th>21063</th>\n",
              "      <td>9997</td>\n",
              "      <td>False</td>\n",
              "      <td>False</td>\n",
              "      <td>True</td>\n",
              "      <td>True</td>\n",
              "      <td>2018-06-22 05:04:12.521441</td>\n",
              "      <td>1000</td>\n",
              "      <td>MALE</td>\n",
              "      <td>-0.992757</td>\n",
              "      <td>True</td>\n",
              "      <td>False</td>\n",
              "      <td>EDMONTON</td>\n",
              "      <td>53.480952</td>\n",
              "      <td>-113.585462</td>\n",
              "    </tr>\n",
              "    <tr>\n",
              "      <th>21064</th>\n",
              "      <td>9998</td>\n",
              "      <td>False</td>\n",
              "      <td>False</td>\n",
              "      <td>True</td>\n",
              "      <td>True</td>\n",
              "      <td>2018-06-22 05:04:12.552018</td>\n",
              "      <td>2500</td>\n",
              "      <td>FEMALE</td>\n",
              "      <td>0.997584</td>\n",
              "      <td>True</td>\n",
              "      <td>False</td>\n",
              "      <td>EDMONTON</td>\n",
              "      <td>53.598738</td>\n",
              "      <td>-113.471605</td>\n",
              "    </tr>\n",
              "    <tr>\n",
              "      <th>21065</th>\n",
              "      <td>9999</td>\n",
              "      <td>False</td>\n",
              "      <td>False</td>\n",
              "      <td>True</td>\n",
              "      <td>False</td>\n",
              "      <td>2018-06-22 05:04:12.560499</td>\n",
              "      <td>2500</td>\n",
              "      <td>MALE</td>\n",
              "      <td>-0.999999</td>\n",
              "      <td>True</td>\n",
              "      <td>False</td>\n",
              "      <td>SHERWOODPARK</td>\n",
              "      <td>53.557807</td>\n",
              "      <td>-113.272256</td>\n",
              "    </tr>\n",
              "  </tbody>\n",
              "</table>\n",
              "<p>21066 rows × 14 columns</p>\n",
              "</div>"
            ],
            "text/plain": [
              "       user_id  do_not_call  ...        lat         lng\n",
              "0           10        False  ...  53.534261 -113.561948\n",
              "1          100        False  ...  53.510890 -113.325069\n",
              "2         1000        False  ...  53.801988 -113.650435\n",
              "3        10000        False  ...  55.140667 -118.763608\n",
              "4        10001        False  ...  53.542243 -113.530470\n",
              "...        ...          ...  ...        ...         ...\n",
              "21061     9993        False  ...  51.008772 -113.795686\n",
              "21062     9996        False  ...  53.503822 -113.320358\n",
              "21063     9997        False  ...  53.480952 -113.585462\n",
              "21064     9998        False  ...  53.598738 -113.471605\n",
              "21065     9999        False  ...  53.557807 -113.272256\n",
              "\n",
              "[21066 rows x 14 columns]"
            ]
          },
          "metadata": {
            "tags": []
          },
          "execution_count": 273
        }
      ]
    },
    {
      "cell_type": "markdown",
      "metadata": {
        "id": "22qcE8xel4-t",
        "colab_type": "text"
      },
      "source": [
        "## Drop Gender features"
      ]
    },
    {
      "cell_type": "code",
      "metadata": {
        "id": "f4toh-nbi4Me",
        "colab_type": "code",
        "colab": {
          "base_uri": "https://localhost:8080/",
          "height": 573
        },
        "outputId": "d18061e9-38ae-4b36-99e4-8b8b75bcfafc"
      },
      "source": [
        "persons_df.drop(['gender', 'genderscale'], axis = 1, inplace=True)\n",
        "persons_df"
      ],
      "execution_count": 274,
      "outputs": [
        {
          "output_type": "execute_result",
          "data": {
            "text/html": [
              "<div>\n",
              "<style scoped>\n",
              "    .dataframe tbody tr th:only-of-type {\n",
              "        vertical-align: middle;\n",
              "    }\n",
              "\n",
              "    .dataframe tbody tr th {\n",
              "        vertical-align: top;\n",
              "    }\n",
              "\n",
              "    .dataframe thead th {\n",
              "        text-align: right;\n",
              "    }\n",
              "</style>\n",
              "<table border=\"1\" class=\"dataframe\">\n",
              "  <thead>\n",
              "    <tr style=\"text-align: right;\">\n",
              "      <th></th>\n",
              "      <th>user_id</th>\n",
              "      <th>do_not_call</th>\n",
              "      <th>do_not_contact</th>\n",
              "      <th>mobile_opt_in</th>\n",
              "      <th>email_opt_in</th>\n",
              "      <th>created_at</th>\n",
              "      <th>amount_donated_in_cent</th>\n",
              "      <th>is_member</th>\n",
              "      <th>is_volunteer</th>\n",
              "      <th>city</th>\n",
              "      <th>lat</th>\n",
              "      <th>lng</th>\n",
              "    </tr>\n",
              "  </thead>\n",
              "  <tbody>\n",
              "    <tr>\n",
              "      <th>0</th>\n",
              "      <td>10</td>\n",
              "      <td>False</td>\n",
              "      <td>False</td>\n",
              "      <td>True</td>\n",
              "      <td>True</td>\n",
              "      <td>2018-06-18 03:33:36.877235</td>\n",
              "      <td>50000</td>\n",
              "      <td>True</td>\n",
              "      <td>True</td>\n",
              "      <td>EDMONTON</td>\n",
              "      <td>53.534261</td>\n",
              "      <td>-113.561948</td>\n",
              "    </tr>\n",
              "    <tr>\n",
              "      <th>1</th>\n",
              "      <td>100</td>\n",
              "      <td>False</td>\n",
              "      <td>False</td>\n",
              "      <td>True</td>\n",
              "      <td>True</td>\n",
              "      <td>2018-06-22 04:59:11.094703</td>\n",
              "      <td>0</td>\n",
              "      <td>True</td>\n",
              "      <td>False</td>\n",
              "      <td>SHERWOODPARK</td>\n",
              "      <td>53.510890</td>\n",
              "      <td>-113.325069</td>\n",
              "    </tr>\n",
              "    <tr>\n",
              "      <th>2</th>\n",
              "      <td>1000</td>\n",
              "      <td>False</td>\n",
              "      <td>False</td>\n",
              "      <td>True</td>\n",
              "      <td>False</td>\n",
              "      <td>2018-06-22 04:59:32.324681</td>\n",
              "      <td>0</td>\n",
              "      <td>True</td>\n",
              "      <td>False</td>\n",
              "      <td>MORINVILLE</td>\n",
              "      <td>53.801988</td>\n",
              "      <td>-113.650435</td>\n",
              "    </tr>\n",
              "    <tr>\n",
              "      <th>3</th>\n",
              "      <td>10000</td>\n",
              "      <td>False</td>\n",
              "      <td>False</td>\n",
              "      <td>True</td>\n",
              "      <td>True</td>\n",
              "      <td>2018-06-22 05:04:12.560932</td>\n",
              "      <td>2500</td>\n",
              "      <td>True</td>\n",
              "      <td>False</td>\n",
              "      <td>COUNTYOFGRANDEPRAIRIENO</td>\n",
              "      <td>55.140667</td>\n",
              "      <td>-118.763608</td>\n",
              "    </tr>\n",
              "    <tr>\n",
              "      <th>4</th>\n",
              "      <td>10001</td>\n",
              "      <td>False</td>\n",
              "      <td>False</td>\n",
              "      <td>True</td>\n",
              "      <td>False</td>\n",
              "      <td>2018-06-22 05:04:12.566468</td>\n",
              "      <td>1000</td>\n",
              "      <td>True</td>\n",
              "      <td>False</td>\n",
              "      <td>EDMONTON</td>\n",
              "      <td>53.542243</td>\n",
              "      <td>-113.530470</td>\n",
              "    </tr>\n",
              "    <tr>\n",
              "      <th>...</th>\n",
              "      <td>...</td>\n",
              "      <td>...</td>\n",
              "      <td>...</td>\n",
              "      <td>...</td>\n",
              "      <td>...</td>\n",
              "      <td>...</td>\n",
              "      <td>...</td>\n",
              "      <td>...</td>\n",
              "      <td>...</td>\n",
              "      <td>...</td>\n",
              "      <td>...</td>\n",
              "      <td>...</td>\n",
              "    </tr>\n",
              "    <tr>\n",
              "      <th>21061</th>\n",
              "      <td>9993</td>\n",
              "      <td>False</td>\n",
              "      <td>False</td>\n",
              "      <td>True</td>\n",
              "      <td>True</td>\n",
              "      <td>2018-06-22 05:04:12.499741</td>\n",
              "      <td>1000</td>\n",
              "      <td>True</td>\n",
              "      <td>False</td>\n",
              "      <td>CHESTERMERE</td>\n",
              "      <td>51.008772</td>\n",
              "      <td>-113.795686</td>\n",
              "    </tr>\n",
              "    <tr>\n",
              "      <th>21062</th>\n",
              "      <td>9996</td>\n",
              "      <td>False</td>\n",
              "      <td>False</td>\n",
              "      <td>True</td>\n",
              "      <td>True</td>\n",
              "      <td>2018-06-22 05:04:12.518356</td>\n",
              "      <td>1000</td>\n",
              "      <td>True</td>\n",
              "      <td>False</td>\n",
              "      <td>SHERWOODPARK</td>\n",
              "      <td>53.503822</td>\n",
              "      <td>-113.320358</td>\n",
              "    </tr>\n",
              "    <tr>\n",
              "      <th>21063</th>\n",
              "      <td>9997</td>\n",
              "      <td>False</td>\n",
              "      <td>False</td>\n",
              "      <td>True</td>\n",
              "      <td>True</td>\n",
              "      <td>2018-06-22 05:04:12.521441</td>\n",
              "      <td>1000</td>\n",
              "      <td>True</td>\n",
              "      <td>False</td>\n",
              "      <td>EDMONTON</td>\n",
              "      <td>53.480952</td>\n",
              "      <td>-113.585462</td>\n",
              "    </tr>\n",
              "    <tr>\n",
              "      <th>21064</th>\n",
              "      <td>9998</td>\n",
              "      <td>False</td>\n",
              "      <td>False</td>\n",
              "      <td>True</td>\n",
              "      <td>True</td>\n",
              "      <td>2018-06-22 05:04:12.552018</td>\n",
              "      <td>2500</td>\n",
              "      <td>True</td>\n",
              "      <td>False</td>\n",
              "      <td>EDMONTON</td>\n",
              "      <td>53.598738</td>\n",
              "      <td>-113.471605</td>\n",
              "    </tr>\n",
              "    <tr>\n",
              "      <th>21065</th>\n",
              "      <td>9999</td>\n",
              "      <td>False</td>\n",
              "      <td>False</td>\n",
              "      <td>True</td>\n",
              "      <td>False</td>\n",
              "      <td>2018-06-22 05:04:12.560499</td>\n",
              "      <td>2500</td>\n",
              "      <td>True</td>\n",
              "      <td>False</td>\n",
              "      <td>SHERWOODPARK</td>\n",
              "      <td>53.557807</td>\n",
              "      <td>-113.272256</td>\n",
              "    </tr>\n",
              "  </tbody>\n",
              "</table>\n",
              "<p>21066 rows × 12 columns</p>\n",
              "</div>"
            ],
            "text/plain": [
              "       user_id  do_not_call  ...        lat         lng\n",
              "0           10        False  ...  53.534261 -113.561948\n",
              "1          100        False  ...  53.510890 -113.325069\n",
              "2         1000        False  ...  53.801988 -113.650435\n",
              "3        10000        False  ...  55.140667 -118.763608\n",
              "4        10001        False  ...  53.542243 -113.530470\n",
              "...        ...          ...  ...        ...         ...\n",
              "21061     9993        False  ...  51.008772 -113.795686\n",
              "21062     9996        False  ...  53.503822 -113.320358\n",
              "21063     9997        False  ...  53.480952 -113.585462\n",
              "21064     9998        False  ...  53.598738 -113.471605\n",
              "21065     9999        False  ...  53.557807 -113.272256\n",
              "\n",
              "[21066 rows x 12 columns]"
            ]
          },
          "metadata": {
            "tags": []
          },
          "execution_count": 274
        }
      ]
    },
    {
      "cell_type": "markdown",
      "metadata": {
        "id": "DbdonpdSPXCD",
        "colab_type": "text"
      },
      "source": [
        "## Count Number of NaN Values in Persons Dataframe"
      ]
    },
    {
      "cell_type": "code",
      "metadata": {
        "id": "TUi9Gc-n5AfO",
        "colab_type": "code",
        "colab": {
          "base_uri": "https://localhost:8080/",
          "height": 228
        },
        "outputId": "0013d69c-af5c-41af-e706-7caad6bd3335"
      },
      "source": [
        "persons_df.isnull().sum()"
      ],
      "execution_count": 275,
      "outputs": [
        {
          "output_type": "execute_result",
          "data": {
            "text/plain": [
              "user_id                      0\n",
              "do_not_call                  0\n",
              "do_not_contact               0\n",
              "mobile_opt_in                0\n",
              "email_opt_in                 0\n",
              "created_at                   0\n",
              "amount_donated_in_cent       0\n",
              "is_member                    0\n",
              "is_volunteer                 2\n",
              "city                      3329\n",
              "lat                       2475\n",
              "lng                       2475\n",
              "dtype: int64"
            ]
          },
          "metadata": {
            "tags": []
          },
          "execution_count": 275
        }
      ]
    },
    {
      "cell_type": "code",
      "metadata": {
        "id": "9Zge8S_XmRfE",
        "colab_type": "code",
        "colab": {
          "base_uri": "https://localhost:8080/",
          "height": 291
        },
        "outputId": "9d90b15a-38d7-4baf-c350-4cea773ae5f0"
      },
      "source": [
        "persons_df.plot(x='user_id', y='amount_donated_in_cent', style='o')\n",
        "plt.show()"
      ],
      "execution_count": 277,
      "outputs": [
        {
          "output_type": "display_data",
          "data": {
            "image/png": "[encoded data removed]",
            "text/plain": [
              "<Figure size 432x288 with 1 Axes>"
            ]
          },
          "metadata": {
            "tags": [],
            "needs_background": "light"
          }
        }
      ]
    },
    {
      "cell_type": "code",
      "metadata": {
        "id": "2YnLrm5dYTvB",
        "colab_type": "code",
        "colab": {
          "base_uri": "https://localhost:8080/",
          "height": 391
        },
        "outputId": "18b96014-f152-4b00-de86-3017c86f0c6c"
      },
      "source": [
        "interactions_df = pd.read_csv('/content/drive/Shared drives/RA2 TechCareers Model Data/interactions.csv')\n",
        "interactions_df"
      ],
      "execution_count": 242,
      "outputs": [
        {
          "output_type": "execute_result",
          "data": {
            "text/html": [
              "<div>\n",
              "<style scoped>\n",
              "    .dataframe tbody tr th:only-of-type {\n",
              "        vertical-align: middle;\n",
              "    }\n",
              "\n",
              "    .dataframe tbody tr th {\n",
              "        vertical-align: top;\n",
              "    }\n",
              "\n",
              "    .dataframe thead th {\n",
              "        text-align: right;\n",
              "    }\n",
              "</style>\n",
              "<table border=\"1\" class=\"dataframe\">\n",
              "  <thead>\n",
              "    <tr style=\"text-align: right;\">\n",
              "      <th></th>\n",
              "      <th>email_id</th>\n",
              "      <th>user_id</th>\n",
              "      <th>sent_time</th>\n",
              "      <th>opened_time</th>\n",
              "      <th>clicked_time</th>\n",
              "      <th>unsubscribed_time</th>\n",
              "      <th>donation_time</th>\n",
              "      <th>donation_amount</th>\n",
              "    </tr>\n",
              "  </thead>\n",
              "  <tbody>\n",
              "    <tr>\n",
              "      <th>0</th>\n",
              "      <td>1</td>\n",
              "      <td>2</td>\n",
              "      <td>2018-07-05 21:11:41.530676</td>\n",
              "      <td>2018-07-05 21:12:01.000000</td>\n",
              "      <td>2018-07-05 21:21:03.313662</td>\n",
              "      <td>NaN</td>\n",
              "      <td>NaN</td>\n",
              "      <td>NaN</td>\n",
              "    </tr>\n",
              "    <tr>\n",
              "      <th>1</th>\n",
              "      <td>1</td>\n",
              "      <td>3</td>\n",
              "      <td>2018-07-05 21:11:41.607394</td>\n",
              "      <td>2018-07-05 21:18:00.000000</td>\n",
              "      <td>2018-07-05 21:22:03.155225</td>\n",
              "      <td>NaN</td>\n",
              "      <td>NaN</td>\n",
              "      <td>NaN</td>\n",
              "    </tr>\n",
              "    <tr>\n",
              "      <th>2</th>\n",
              "      <td>10</td>\n",
              "      <td>7980</td>\n",
              "      <td>2018-07-11 22:55:37.321770</td>\n",
              "      <td>2018-07-11 23:05:48.000000</td>\n",
              "      <td>NaN</td>\n",
              "      <td>NaN</td>\n",
              "      <td>NaN</td>\n",
              "      <td>NaN</td>\n",
              "    </tr>\n",
              "    <tr>\n",
              "      <th>3</th>\n",
              "      <td>10</td>\n",
              "      <td>2</td>\n",
              "      <td>2018-07-11 22:55:36.801788</td>\n",
              "      <td>2018-07-12 00:05:51.000000</td>\n",
              "      <td>NaN</td>\n",
              "      <td>NaN</td>\n",
              "      <td>NaN</td>\n",
              "      <td>NaN</td>\n",
              "    </tr>\n",
              "    <tr>\n",
              "      <th>4</th>\n",
              "      <td>10</td>\n",
              "      <td>3</td>\n",
              "      <td>2018-07-11 22:55:37.213009</td>\n",
              "      <td>2018-07-11 22:55:46.000000</td>\n",
              "      <td>NaN</td>\n",
              "      <td>NaN</td>\n",
              "      <td>NaN</td>\n",
              "      <td>NaN</td>\n",
              "    </tr>\n",
              "    <tr>\n",
              "      <th>...</th>\n",
              "      <td>...</td>\n",
              "      <td>...</td>\n",
              "      <td>...</td>\n",
              "      <td>...</td>\n",
              "      <td>...</td>\n",
              "      <td>...</td>\n",
              "      <td>...</td>\n",
              "      <td>...</td>\n",
              "    </tr>\n",
              "    <tr>\n",
              "      <th>1044764</th>\n",
              "      <td>98</td>\n",
              "      <td>16374</td>\n",
              "      <td>2018-09-15 16:34:25.023406</td>\n",
              "      <td>NaN</td>\n",
              "      <td>NaN</td>\n",
              "      <td>NaN</td>\n",
              "      <td>NaN</td>\n",
              "      <td>NaN</td>\n",
              "    </tr>\n",
              "    <tr>\n",
              "      <th>1044765</th>\n",
              "      <td>98</td>\n",
              "      <td>13759</td>\n",
              "      <td>2018-09-15 16:34:12.401455</td>\n",
              "      <td>NaN</td>\n",
              "      <td>NaN</td>\n",
              "      <td>NaN</td>\n",
              "      <td>NaN</td>\n",
              "      <td>NaN</td>\n",
              "    </tr>\n",
              "    <tr>\n",
              "      <th>1044766</th>\n",
              "      <td>98</td>\n",
              "      <td>12780</td>\n",
              "      <td>2018-09-15 16:34:17.888160</td>\n",
              "      <td>NaN</td>\n",
              "      <td>NaN</td>\n",
              "      <td>NaN</td>\n",
              "      <td>NaN</td>\n",
              "      <td>NaN</td>\n",
              "    </tr>\n",
              "    <tr>\n",
              "      <th>1044767</th>\n",
              "      <td>98</td>\n",
              "      <td>1699</td>\n",
              "      <td>2018-09-15 16:34:28.065986</td>\n",
              "      <td>NaN</td>\n",
              "      <td>NaN</td>\n",
              "      <td>NaN</td>\n",
              "      <td>NaN</td>\n",
              "      <td>NaN</td>\n",
              "    </tr>\n",
              "    <tr>\n",
              "      <th>1044768</th>\n",
              "      <td>98</td>\n",
              "      <td>10839</td>\n",
              "      <td>2018-09-15 16:34:17.010529</td>\n",
              "      <td>2018-09-20 03:09:52.000000</td>\n",
              "      <td>2018-09-20 03:10:08.044734</td>\n",
              "      <td>NaN</td>\n",
              "      <td>NaN</td>\n",
              "      <td>NaN</td>\n",
              "    </tr>\n",
              "  </tbody>\n",
              "</table>\n",
              "<p>1044769 rows × 8 columns</p>\n",
              "</div>"
            ],
            "text/plain": [
              "         email_id  user_id  ... donation_time donation_amount\n",
              "0               1        2  ...           NaN             NaN\n",
              "1               1        3  ...           NaN             NaN\n",
              "2              10     7980  ...           NaN             NaN\n",
              "3              10        2  ...           NaN             NaN\n",
              "4              10        3  ...           NaN             NaN\n",
              "...           ...      ...  ...           ...             ...\n",
              "1044764        98    16374  ...           NaN             NaN\n",
              "1044765        98    13759  ...           NaN             NaN\n",
              "1044766        98    12780  ...           NaN             NaN\n",
              "1044767        98     1699  ...           NaN             NaN\n",
              "1044768        98    10839  ...           NaN             NaN\n",
              "\n",
              "[1044769 rows x 8 columns]"
            ]
          },
          "metadata": {
            "tags": []
          },
          "execution_count": 242
        }
      ]
    },
    {
      "cell_type": "markdown",
      "metadata": {
        "id": "JBCJFJp_PtbV",
        "colab_type": "text"
      },
      "source": [
        "## Count Number of NaN Values in Interactions Dataframe"
      ]
    },
    {
      "cell_type": "code",
      "metadata": {
        "id": "evVOPzK24YJv",
        "colab_type": "code",
        "colab": {
          "base_uri": "https://localhost:8080/",
          "height": 163
        },
        "outputId": "8e482ab0-e7e1-4ffb-c0c8-65562a4d5d72"
      },
      "source": [
        "interactions_df.isnull().sum()"
      ],
      "execution_count": 243,
      "outputs": [
        {
          "output_type": "execute_result",
          "data": {
            "text/plain": [
              "email_id                   0\n",
              "user_id                    0\n",
              "sent_time                  0\n",
              "opened_time           676169\n",
              "clicked_time         1029902\n",
              "unsubscribed_time    1039456\n",
              "donation_time        1044313\n",
              "donation_amount      1044287\n",
              "dtype: int64"
            ]
          },
          "metadata": {
            "tags": []
          },
          "execution_count": 243
        }
      ]
    },
    {
      "cell_type": "markdown",
      "metadata": {
        "id": "UpSDxkrigWdQ",
        "colab_type": "text"
      },
      "source": [
        "## View DataFrame"
      ]
    },
    {
      "cell_type": "markdown",
      "metadata": {
        "id": "whng3y90Ya4k",
        "colab_type": "text"
      },
      "source": [
        "## Rank users with most opened e-mails"
      ]
    },
    {
      "cell_type": "code",
      "metadata": {
        "id": "t5Dz51RERjE1",
        "colab_type": "code",
        "colab": {
          "base_uri": "https://localhost:8080/",
          "height": 391
        },
        "outputId": "6550b65d-c887-42bd-f69f-029996a25dd9"
      },
      "source": [
        "user_id_count = interactions_df.groupby('user_id').count().sort_values(by='opened_time', ascending=False).reset_index()\n",
        "user_id_count.rename(columns={'email_id':'email_count','sent_time':'sent_count','opened_time':'opened_count','clicked_time':'clicked_count',\n",
        "                               'unsubscribed_time':'unsubscribed_count', 'donation_time':'donation_count'}, inplace=True)\n",
        "user_id_count.drop(['donation_amount'], axis=1, inplace=True)\n",
        "# Introduce a new column to calculate the percentage of opened e-mails by user\n",
        "user_id_count['opened_emails_pct'] = (user_id_count['opened_count'] / user_id_count['sent_count']) * 100\n",
        "user_id_count = user_id_count[['user_id', 'sent_count', 'opened_count', \n",
        "                                 'opened_emails_pct', 'clicked_count', 'unsubscribed_count', \n",
        "                               'donation_count']]\n",
        "user_id_count"
      ],
      "execution_count": 256,
      "outputs": [
        {
          "output_type": "execute_result",
          "data": {
            "text/html": [
              "<div>\n",
              "<style scoped>\n",
              "    .dataframe tbody tr th:only-of-type {\n",
              "        vertical-align: middle;\n",
              "    }\n",
              "\n",
              "    .dataframe tbody tr th {\n",
              "        vertical-align: top;\n",
              "    }\n",
              "\n",
              "    .dataframe thead th {\n",
              "        text-align: right;\n",
              "    }\n",
              "</style>\n",
              "<table border=\"1\" class=\"dataframe\">\n",
              "  <thead>\n",
              "    <tr style=\"text-align: right;\">\n",
              "      <th></th>\n",
              "      <th>user_id</th>\n",
              "      <th>sent_count</th>\n",
              "      <th>opened_count</th>\n",
              "      <th>opened_emails_pct</th>\n",
              "      <th>clicked_count</th>\n",
              "      <th>unsubscribed_count</th>\n",
              "      <th>donation_count</th>\n",
              "    </tr>\n",
              "  </thead>\n",
              "  <tbody>\n",
              "    <tr>\n",
              "      <th>0</th>\n",
              "      <td>6047</td>\n",
              "      <td>214</td>\n",
              "      <td>211</td>\n",
              "      <td>98.598131</td>\n",
              "      <td>9</td>\n",
              "      <td>0</td>\n",
              "      <td>0</td>\n",
              "    </tr>\n",
              "    <tr>\n",
              "      <th>1</th>\n",
              "      <td>11533</td>\n",
              "      <td>218</td>\n",
              "      <td>208</td>\n",
              "      <td>95.412844</td>\n",
              "      <td>26</td>\n",
              "      <td>0</td>\n",
              "      <td>1</td>\n",
              "    </tr>\n",
              "    <tr>\n",
              "      <th>2</th>\n",
              "      <td>3189</td>\n",
              "      <td>210</td>\n",
              "      <td>206</td>\n",
              "      <td>98.095238</td>\n",
              "      <td>36</td>\n",
              "      <td>0</td>\n",
              "      <td>2</td>\n",
              "    </tr>\n",
              "    <tr>\n",
              "      <th>3</th>\n",
              "      <td>7</td>\n",
              "      <td>208</td>\n",
              "      <td>204</td>\n",
              "      <td>98.076923</td>\n",
              "      <td>6</td>\n",
              "      <td>0</td>\n",
              "      <td>1</td>\n",
              "    </tr>\n",
              "    <tr>\n",
              "      <th>4</th>\n",
              "      <td>8072</td>\n",
              "      <td>205</td>\n",
              "      <td>204</td>\n",
              "      <td>99.512195</td>\n",
              "      <td>37</td>\n",
              "      <td>0</td>\n",
              "      <td>2</td>\n",
              "    </tr>\n",
              "    <tr>\n",
              "      <th>...</th>\n",
              "      <td>...</td>\n",
              "      <td>...</td>\n",
              "      <td>...</td>\n",
              "      <td>...</td>\n",
              "      <td>...</td>\n",
              "      <td>...</td>\n",
              "      <td>...</td>\n",
              "    </tr>\n",
              "    <tr>\n",
              "      <th>21061</th>\n",
              "      <td>25230</td>\n",
              "      <td>36</td>\n",
              "      <td>0</td>\n",
              "      <td>0.000000</td>\n",
              "      <td>0</td>\n",
              "      <td>0</td>\n",
              "      <td>0</td>\n",
              "    </tr>\n",
              "    <tr>\n",
              "      <th>21062</th>\n",
              "      <td>15130</td>\n",
              "      <td>1</td>\n",
              "      <td>0</td>\n",
              "      <td>0.000000</td>\n",
              "      <td>0</td>\n",
              "      <td>0</td>\n",
              "      <td>0</td>\n",
              "    </tr>\n",
              "    <tr>\n",
              "      <th>21063</th>\n",
              "      <td>15125</td>\n",
              "      <td>1</td>\n",
              "      <td>0</td>\n",
              "      <td>0.000000</td>\n",
              "      <td>0</td>\n",
              "      <td>0</td>\n",
              "      <td>0</td>\n",
              "    </tr>\n",
              "    <tr>\n",
              "      <th>21064</th>\n",
              "      <td>15120</td>\n",
              "      <td>1</td>\n",
              "      <td>0</td>\n",
              "      <td>0.000000</td>\n",
              "      <td>0</td>\n",
              "      <td>0</td>\n",
              "      <td>0</td>\n",
              "    </tr>\n",
              "    <tr>\n",
              "      <th>21065</th>\n",
              "      <td>16431</td>\n",
              "      <td>1</td>\n",
              "      <td>0</td>\n",
              "      <td>0.000000</td>\n",
              "      <td>0</td>\n",
              "      <td>0</td>\n",
              "      <td>0</td>\n",
              "    </tr>\n",
              "  </tbody>\n",
              "</table>\n",
              "<p>21066 rows × 7 columns</p>\n",
              "</div>"
            ],
            "text/plain": [
              "       user_id  sent_count  ...  unsubscribed_count  donation_count\n",
              "0         6047         214  ...                   0               0\n",
              "1        11533         218  ...                   0               1\n",
              "2         3189         210  ...                   0               2\n",
              "3            7         208  ...                   0               1\n",
              "4         8072         205  ...                   0               2\n",
              "...        ...         ...  ...                 ...             ...\n",
              "21061    25230          36  ...                   0               0\n",
              "21062    15130           1  ...                   0               0\n",
              "21063    15125           1  ...                   0               0\n",
              "21064    15120           1  ...                   0               0\n",
              "21065    16431           1  ...                   0               0\n",
              "\n",
              "[21066 rows x 7 columns]"
            ]
          },
          "metadata": {
            "tags": []
          },
          "execution_count": 256
        }
      ]
    },
    {
      "cell_type": "markdown",
      "metadata": {
        "id": "NGrxD327W6j5",
        "colab_type": "text"
      },
      "source": [
        "## Rank most opened e-mails"
      ]
    },
    {
      "cell_type": "code",
      "metadata": {
        "id": "XkgX8b9nYiai",
        "colab_type": "code",
        "colab": {}
      },
      "source": [
        "# email_id_count = interactions_df.groupby('email_id').count().sort_values(by='opened_time', ascending=False).reset_index()\n",
        "# email_id_count.rename(columns={'user_id':'user_count','sent_time':'sent_count','opened_time':'opened_count','clicked_time':'clicked_count',\n",
        "#                                'unsubscribed_time':'unsubscribed_count', 'donation_time':'donation_count'}, inplace=True)\n",
        "# email_id_count.drop(['donation_amount'], axis=1, inplace=True)\n",
        "# # Introduce a new column to calculate the percentage of opened e-mails by e-mail id\n",
        "# email_id_count['opened_emails_pct'] = (email_id_count['opened_count'] / email_id_count['sent_count']) * 100\n",
        "# email_id_count = email_id_count[['email_id', 'user_count', 'sent_count', 'opened_count', \n",
        "#                                  'opened_emails_pct', 'clicked_count', 'unsubscribed_count', \n",
        "#                                'donation_count']]\n",
        "# email_id_count"
      ],
      "execution_count": 257,
      "outputs": []
    }
  ]
}